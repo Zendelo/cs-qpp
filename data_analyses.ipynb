{
 "cells": [
  {
   "cell_type": "code",
   "execution_count": 1,
   "id": "9908bd3e-20a2-4d2a-92fb-59868fd188db",
   "metadata": {
    "trusted": false,
    "ExecuteTime": {
     "start_time": "2023-04-14T15:03:18.444861Z",
     "end_time": "2023-04-14T15:03:18.792178Z"
    }
   },
   "outputs": [],
   "source": [
    "import matplotlib.pyplot as plt\n",
    "import pandas as pd\n",
    "import seaborn as sns\n",
    "from matplotlib.lines import Line2D\n",
    "from scipy import stats"
   ]
  },
  {
   "cell_type": "code",
   "execution_count": 2,
   "id": "adcd9e21-1d70-4e29-abea-b1e356ee7574",
   "metadata": {
    "trusted": false,
    "ExecuteTime": {
     "start_time": "2023-04-14T15:03:18.448803Z",
     "end_time": "2023-04-14T15:03:18.833052Z"
    }
   },
   "outputs": [],
   "source": [
    "col_names = ['rid', 'topic', 'query', 'value', 'wid', 'batch', 'duration', 'EndDate', 'query_mean']\n",
    "dtypes = {'rid': str, 'topic': int, 'query': str, 'value': int, 'wid': str, 'batch': str, 'duration': int,\n",
    "          'query_mean': float}\n",
    "ranks_df = pd.read_csv('data/ranks_df_long.csv', index_col='rid', names=col_names, dtype=dtypes, header=0)\n",
    "rates_df = pd.read_csv('data/ratings_df_long.csv', index_col='rid', names=col_names, dtype=dtypes, header=0)\n",
    "ranks_df['value'] = ranks_df['value'].max() - ranks_df['value'] + 1"
   ]
  },
  {
   "cell_type": "code",
   "execution_count": 3,
   "id": "3951d397-8493-4623-ae24-dd83c6a6f780",
   "metadata": {
    "trusted": false,
    "ExecuteTime": {
     "start_time": "2023-04-14T15:03:18.499816Z",
     "end_time": "2023-04-14T15:03:21.114628Z"
    }
   },
   "outputs": [
    {
     "name": "stdout",
     "output_type": "stream",
     "text": [
      "3.5652800705467813\n",
      "query\n",
      "carpal tunnel                     0.433333\n",
      "carpal tunnel syndrome            0.377778\n",
      "carpal tunnel syndrome wiki       0.444722\n",
      "cts syndrome                      0.288889\n",
      "what is carpal tunnel syndrome    0.388889\n",
      "Name: value, dtype: float64\n",
      "query\n",
      "carpal tunnel                     0.465753\n",
      "carpal tunnel syndrome            0.410959\n",
      "carpal tunnel syndrome wiki       0.410959\n",
      "cts syndrome                      0.493151\n",
      "what is carpal tunnel syndrome    0.397260\n",
      "Name: value, dtype: float64\n"
     ]
    }
   ],
   "source": [
    "comb_df = pd.concat([ranks_df.assign(method='Ranking'), rates_df.assign(method='Rating')]).sort_values(\n",
    "    ['topic', 'method', 'query_mean', 'value'])\n",
    "comb_df['value'].clip(lower=1, inplace=True)  # clipping all ratings to start from 1\n",
    "\n",
    "# calc std error\n",
    "print(comb_df.groupby(['method', 'query'])['value'].mean().loc[('Rating', 'schizophrenia')] +\n",
    "      comb_df.groupby(['method', 'query'])['value'].std().loc[('Ranking', 'schizophrenia')])\n",
    "\n",
    "# calc ci's with seaborn\n",
    "print(ranks_df.loc[ranks_df['topic'] == 213].groupby('query')['value'].apply(sns.algorithms.bootstrap).apply(\n",
    "    sns.utils.ci).apply(lambda x: x[1] - x[0]))\n",
    "print(rates_df.loc[rates_df['topic'] == 213].groupby('query')['value'].apply(sns.algorithms.bootstrap).apply(\n",
    "    sns.utils.ci).apply(lambda x: x[1] - x[0]))"
   ]
  },
  {
   "cell_type": "code",
   "execution_count": 4,
   "id": "da457e37-73a9-4413-9a52-0202e432055d",
   "metadata": {
    "trusted": false,
    "ExecuteTime": {
     "start_time": "2023-04-14T15:03:21.113331Z",
     "end_time": "2023-04-14T15:03:21.121662Z"
    }
   },
   "outputs": [
    {
     "name": "stdout",
     "output_type": "stream",
     "text": [
      "Overall average time 5 minutes and 17 seconds\n",
      "with SD of 3 minutes and 52 seconds\n"
     ]
    }
   ],
   "source": [
    "print(\n",
    "    f\"Overall average time {comb_df['duration'].mean() // 60:.0f} minutes and {comb_df['duration'].mean() % 60:.0f} seconds\")\n",
    "print(f\"with SD of {comb_df['duration'].std() // 60:.0f} minutes and {comb_df['duration'].std() % 60:.0f} seconds\")"
   ]
  },
  {
   "cell_type": "code",
   "execution_count": 5,
   "id": "fcfc8e86-c2ec-4746-8e1a-16e35945d041",
   "metadata": {
    "trusted": false,
    "ExecuteTime": {
     "start_time": "2023-04-14T15:03:21.119651Z",
     "end_time": "2023-04-14T15:03:21.199802Z"
    }
   },
   "outputs": [
    {
     "name": "stdout",
     "output_type": "stream",
     "text": [
      "Total of 267 workers submitted the filtered HITs\n",
      "Every worker did 1.94 HITs on average\n"
     ]
    }
   ],
   "source": [
    "print(f\"Total of {comb_df['wid'].nunique()} workers submitted the filtered HITs\")\n",
    "print(f\"Every worker did {comb_df.groupby('wid')['batch'].nunique().mean():.4g} HITs on average\")"
   ]
  },
  {
   "cell_type": "code",
   "execution_count": 6,
   "id": "6edad80d-5a62-4eae-9fd4-f7d2002b7d2c",
   "metadata": {
    "trusted": false,
    "ExecuteTime": {
     "start_time": "2023-04-14T15:03:21.144946Z",
     "end_time": "2023-04-14T15:03:21.201554Z"
    }
   },
   "outputs": [
    {
     "data": {
      "text/plain": "              topic                         query  value             wid  \\\nrid                                                                        \n48775020688     213        carpal tunnel syndrome      2   AH56J7I291XL7   \n60832753977     213        carpal tunnel syndrome      2   A4D99Y82KOLC8   \n99458784954     213        carpal tunnel syndrome      2  A13FTIHWW9GE8X   \n12734195590     213        carpal tunnel syndrome      3  A1I0DV4B4MFQCL   \n17248459875     213        carpal tunnel syndrome      3  A12R2U6TBB3OOG   \n...             ...                           ...    ...             ...   \n893638237006    286  drug treatment schizophrenia      5  A3FKXJVH0K2E3E   \n908844146155    286  drug treatment schizophrenia      5   A5NE8TWS8ZV7B   \n944288367126    286  drug treatment schizophrenia      5  A1X1SOI48T1C6E   \n976657927897    286  drug treatment schizophrenia      5  A2ZRL1ZWWXJ0L7   \n977617362863    286  drug treatment schizophrenia      5   AZ69TBTDH7AZS   \n\n              batch  duration              EndDate  query_mean   method  \nrid                                                                      \n48775020688     red       246  2022-02-14 10:15:50    1.911111  Ranking  \n60832753977     red       152  2022-02-14 14:30:47    1.911111  Ranking  \n99458784954     red       242  2022-02-14 14:07:38    1.911111  Ranking  \n12734195590     red       286  2022-02-14 13:59:06    1.911111  Ranking  \n17248459875     red       299  2022-02-10 01:36:09    1.911111  Ranking  \n...             ...       ...                  ...         ...      ...  \n893638237006  green       170  2022-02-14 11:44:18    4.693182   Rating  \n908844146155  green       225  2022-02-14 11:59:07    4.693182   Rating  \n944288367126  green       204  2022-02-10 13:15:09    4.693182   Rating  \n976657927897  green       172  2022-02-14 12:00:13    4.693182   Rating  \n977617362863  green       141  2022-02-14 11:51:43    4.693182   Rating  \n\n[1720 rows x 9 columns]",
      "text/html": "<div>\n<style scoped>\n    .dataframe tbody tr th:only-of-type {\n        vertical-align: middle;\n    }\n\n    .dataframe tbody tr th {\n        vertical-align: top;\n    }\n\n    .dataframe thead th {\n        text-align: right;\n    }\n</style>\n<table border=\"1\" class=\"dataframe\">\n  <thead>\n    <tr style=\"text-align: right;\">\n      <th></th>\n      <th>topic</th>\n      <th>query</th>\n      <th>value</th>\n      <th>wid</th>\n      <th>batch</th>\n      <th>duration</th>\n      <th>EndDate</th>\n      <th>query_mean</th>\n      <th>method</th>\n    </tr>\n    <tr>\n      <th>rid</th>\n      <th></th>\n      <th></th>\n      <th></th>\n      <th></th>\n      <th></th>\n      <th></th>\n      <th></th>\n      <th></th>\n      <th></th>\n    </tr>\n  </thead>\n  <tbody>\n    <tr>\n      <th>48775020688</th>\n      <td>213</td>\n      <td>carpal tunnel syndrome</td>\n      <td>2</td>\n      <td>AH56J7I291XL7</td>\n      <td>red</td>\n      <td>246</td>\n      <td>2022-02-14 10:15:50</td>\n      <td>1.911111</td>\n      <td>Ranking</td>\n    </tr>\n    <tr>\n      <th>60832753977</th>\n      <td>213</td>\n      <td>carpal tunnel syndrome</td>\n      <td>2</td>\n      <td>A4D99Y82KOLC8</td>\n      <td>red</td>\n      <td>152</td>\n      <td>2022-02-14 14:30:47</td>\n      <td>1.911111</td>\n      <td>Ranking</td>\n    </tr>\n    <tr>\n      <th>99458784954</th>\n      <td>213</td>\n      <td>carpal tunnel syndrome</td>\n      <td>2</td>\n      <td>A13FTIHWW9GE8X</td>\n      <td>red</td>\n      <td>242</td>\n      <td>2022-02-14 14:07:38</td>\n      <td>1.911111</td>\n      <td>Ranking</td>\n    </tr>\n    <tr>\n      <th>12734195590</th>\n      <td>213</td>\n      <td>carpal tunnel syndrome</td>\n      <td>3</td>\n      <td>A1I0DV4B4MFQCL</td>\n      <td>red</td>\n      <td>286</td>\n      <td>2022-02-14 13:59:06</td>\n      <td>1.911111</td>\n      <td>Ranking</td>\n    </tr>\n    <tr>\n      <th>17248459875</th>\n      <td>213</td>\n      <td>carpal tunnel syndrome</td>\n      <td>3</td>\n      <td>A12R2U6TBB3OOG</td>\n      <td>red</td>\n      <td>299</td>\n      <td>2022-02-10 01:36:09</td>\n      <td>1.911111</td>\n      <td>Ranking</td>\n    </tr>\n    <tr>\n      <th>...</th>\n      <td>...</td>\n      <td>...</td>\n      <td>...</td>\n      <td>...</td>\n      <td>...</td>\n      <td>...</td>\n      <td>...</td>\n      <td>...</td>\n      <td>...</td>\n    </tr>\n    <tr>\n      <th>893638237006</th>\n      <td>286</td>\n      <td>drug treatment schizophrenia</td>\n      <td>5</td>\n      <td>A3FKXJVH0K2E3E</td>\n      <td>green</td>\n      <td>170</td>\n      <td>2022-02-14 11:44:18</td>\n      <td>4.693182</td>\n      <td>Rating</td>\n    </tr>\n    <tr>\n      <th>908844146155</th>\n      <td>286</td>\n      <td>drug treatment schizophrenia</td>\n      <td>5</td>\n      <td>A5NE8TWS8ZV7B</td>\n      <td>green</td>\n      <td>225</td>\n      <td>2022-02-14 11:59:07</td>\n      <td>4.693182</td>\n      <td>Rating</td>\n    </tr>\n    <tr>\n      <th>944288367126</th>\n      <td>286</td>\n      <td>drug treatment schizophrenia</td>\n      <td>5</td>\n      <td>A1X1SOI48T1C6E</td>\n      <td>green</td>\n      <td>204</td>\n      <td>2022-02-10 13:15:09</td>\n      <td>4.693182</td>\n      <td>Rating</td>\n    </tr>\n    <tr>\n      <th>976657927897</th>\n      <td>286</td>\n      <td>drug treatment schizophrenia</td>\n      <td>5</td>\n      <td>A2ZRL1ZWWXJ0L7</td>\n      <td>green</td>\n      <td>172</td>\n      <td>2022-02-14 12:00:13</td>\n      <td>4.693182</td>\n      <td>Rating</td>\n    </tr>\n    <tr>\n      <th>977617362863</th>\n      <td>286</td>\n      <td>drug treatment schizophrenia</td>\n      <td>5</td>\n      <td>AZ69TBTDH7AZS</td>\n      <td>green</td>\n      <td>141</td>\n      <td>2022-02-14 11:51:43</td>\n      <td>4.693182</td>\n      <td>Rating</td>\n    </tr>\n  </tbody>\n</table>\n<p>1720 rows × 9 columns</p>\n</div>"
     },
     "execution_count": 6,
     "metadata": {},
     "output_type": "execute_result"
    }
   ],
   "source": [
    "comb_df.loc[comb_df['topic'].isin({213, 286})]"
   ]
  },
  {
   "cell_type": "code",
   "execution_count": 7,
   "id": "c534fe61-6b17-4d9a-9f65-2bbf2c57f73f",
   "metadata": {
    "trusted": false
   },
   "outputs": [
    {
     "ename": "FileNotFoundError",
     "evalue": "[Errno 2] No such file or directory: 'data/unique_normalized_user_queries.csv'",
     "output_type": "error",
     "traceback": [
      "\u001B[0;31m---------------------------------------------------------------------------\u001B[0m",
      "\u001B[0;31mFileNotFoundError\u001B[0m                         Traceback (most recent call last)",
      "Input \u001B[0;32mIn [7]\u001B[0m, in \u001B[0;36m<cell line: 1>\u001B[0;34m()\u001B[0m\n\u001B[0;32m----> 1\u001B[0m unique_user_queries \u001B[38;5;241m=\u001B[39m \u001B[43mpd\u001B[49m\u001B[38;5;241;43m.\u001B[39;49m\u001B[43mread_csv\u001B[49m\u001B[43m(\u001B[49m\u001B[38;5;124;43m'\u001B[39;49m\u001B[38;5;124;43mdata/unique_normalized_user_queries.csv\u001B[39;49m\u001B[38;5;124;43m'\u001B[39;49m\u001B[43m,\u001B[49m\u001B[43m \u001B[49m\u001B[43mheader\u001B[49m\u001B[38;5;241;43m=\u001B[39;49m\u001B[38;5;28;43;01mNone\u001B[39;49;00m\u001B[43m,\u001B[49m\u001B[43m \u001B[49m\u001B[43mnames\u001B[49m\u001B[38;5;241;43m=\u001B[39;49m\u001B[43m[\u001B[49m\u001B[38;5;124;43m'\u001B[39;49m\u001B[38;5;124;43mqid\u001B[39;49m\u001B[38;5;124;43m'\u001B[39;49m\u001B[43m,\u001B[49m\u001B[43m \u001B[49m\u001B[38;5;124;43m'\u001B[39;49m\u001B[38;5;124;43mquery\u001B[39;49m\u001B[38;5;124;43m'\u001B[39;49m\u001B[43m]\u001B[49m\u001B[43m,\u001B[49m\n\u001B[1;32m      2\u001B[0m \u001B[43m                                  \u001B[49m\u001B[43mindex_col\u001B[49m\u001B[38;5;241;43m=\u001B[39;49m\u001B[38;5;124;43m'\u001B[39;49m\u001B[38;5;124;43mquery\u001B[39;49m\u001B[38;5;124;43m'\u001B[39;49m\u001B[43m)\u001B[49m\n\u001B[1;32m      3\u001B[0m unique_user_queries \u001B[38;5;241m=\u001B[39m unique_user_queries\u001B[38;5;241m.\u001B[39massign(rid\u001B[38;5;241m=\u001B[39munique_user_queries\u001B[38;5;241m.\u001B[39mqid\u001B[38;5;241m.\u001B[39mstr\u001B[38;5;241m.\u001B[39mrsplit(\u001B[38;5;124m'\u001B[39m\u001B[38;5;124m-\u001B[39m\u001B[38;5;124m'\u001B[39m, \u001B[38;5;241m1\u001B[39m)\u001B[38;5;241m.\u001B[39mstr[\u001B[38;5;241m1\u001B[39m])\n\u001B[1;32m      4\u001B[0m unique_user_queries\n",
      "File \u001B[0;32m~/miniconda3/envs/standard/lib/python3.8/site-packages/pandas/util/_decorators.py:211\u001B[0m, in \u001B[0;36mdeprecate_kwarg.<locals>._deprecate_kwarg.<locals>.wrapper\u001B[0;34m(*args, **kwargs)\u001B[0m\n\u001B[1;32m    209\u001B[0m     \u001B[38;5;28;01melse\u001B[39;00m:\n\u001B[1;32m    210\u001B[0m         kwargs[new_arg_name] \u001B[38;5;241m=\u001B[39m new_arg_value\n\u001B[0;32m--> 211\u001B[0m \u001B[38;5;28;01mreturn\u001B[39;00m \u001B[43mfunc\u001B[49m\u001B[43m(\u001B[49m\u001B[38;5;241;43m*\u001B[39;49m\u001B[43margs\u001B[49m\u001B[43m,\u001B[49m\u001B[43m \u001B[49m\u001B[38;5;241;43m*\u001B[39;49m\u001B[38;5;241;43m*\u001B[39;49m\u001B[43mkwargs\u001B[49m\u001B[43m)\u001B[49m\n",
      "File \u001B[0;32m~/miniconda3/envs/standard/lib/python3.8/site-packages/pandas/util/_decorators.py:331\u001B[0m, in \u001B[0;36mdeprecate_nonkeyword_arguments.<locals>.decorate.<locals>.wrapper\u001B[0;34m(*args, **kwargs)\u001B[0m\n\u001B[1;32m    325\u001B[0m \u001B[38;5;28;01mif\u001B[39;00m \u001B[38;5;28mlen\u001B[39m(args) \u001B[38;5;241m>\u001B[39m num_allow_args:\n\u001B[1;32m    326\u001B[0m     warnings\u001B[38;5;241m.\u001B[39mwarn(\n\u001B[1;32m    327\u001B[0m         msg\u001B[38;5;241m.\u001B[39mformat(arguments\u001B[38;5;241m=\u001B[39m_format_argument_list(allow_args)),\n\u001B[1;32m    328\u001B[0m         \u001B[38;5;167;01mFutureWarning\u001B[39;00m,\n\u001B[1;32m    329\u001B[0m         stacklevel\u001B[38;5;241m=\u001B[39mfind_stack_level(),\n\u001B[1;32m    330\u001B[0m     )\n\u001B[0;32m--> 331\u001B[0m \u001B[38;5;28;01mreturn\u001B[39;00m \u001B[43mfunc\u001B[49m\u001B[43m(\u001B[49m\u001B[38;5;241;43m*\u001B[39;49m\u001B[43margs\u001B[49m\u001B[43m,\u001B[49m\u001B[43m \u001B[49m\u001B[38;5;241;43m*\u001B[39;49m\u001B[38;5;241;43m*\u001B[39;49m\u001B[43mkwargs\u001B[49m\u001B[43m)\u001B[49m\n",
      "File \u001B[0;32m~/miniconda3/envs/standard/lib/python3.8/site-packages/pandas/io/parsers/readers.py:950\u001B[0m, in \u001B[0;36mread_csv\u001B[0;34m(filepath_or_buffer, sep, delimiter, header, names, index_col, usecols, squeeze, prefix, mangle_dupe_cols, dtype, engine, converters, true_values, false_values, skipinitialspace, skiprows, skipfooter, nrows, na_values, keep_default_na, na_filter, verbose, skip_blank_lines, parse_dates, infer_datetime_format, keep_date_col, date_parser, dayfirst, cache_dates, iterator, chunksize, compression, thousands, decimal, lineterminator, quotechar, quoting, doublequote, escapechar, comment, encoding, encoding_errors, dialect, error_bad_lines, warn_bad_lines, on_bad_lines, delim_whitespace, low_memory, memory_map, float_precision, storage_options)\u001B[0m\n\u001B[1;32m    935\u001B[0m kwds_defaults \u001B[38;5;241m=\u001B[39m _refine_defaults_read(\n\u001B[1;32m    936\u001B[0m     dialect,\n\u001B[1;32m    937\u001B[0m     delimiter,\n\u001B[0;32m   (...)\u001B[0m\n\u001B[1;32m    946\u001B[0m     defaults\u001B[38;5;241m=\u001B[39m{\u001B[38;5;124m\"\u001B[39m\u001B[38;5;124mdelimiter\u001B[39m\u001B[38;5;124m\"\u001B[39m: \u001B[38;5;124m\"\u001B[39m\u001B[38;5;124m,\u001B[39m\u001B[38;5;124m\"\u001B[39m},\n\u001B[1;32m    947\u001B[0m )\n\u001B[1;32m    948\u001B[0m kwds\u001B[38;5;241m.\u001B[39mupdate(kwds_defaults)\n\u001B[0;32m--> 950\u001B[0m \u001B[38;5;28;01mreturn\u001B[39;00m \u001B[43m_read\u001B[49m\u001B[43m(\u001B[49m\u001B[43mfilepath_or_buffer\u001B[49m\u001B[43m,\u001B[49m\u001B[43m \u001B[49m\u001B[43mkwds\u001B[49m\u001B[43m)\u001B[49m\n",
      "File \u001B[0;32m~/miniconda3/envs/standard/lib/python3.8/site-packages/pandas/io/parsers/readers.py:605\u001B[0m, in \u001B[0;36m_read\u001B[0;34m(filepath_or_buffer, kwds)\u001B[0m\n\u001B[1;32m    602\u001B[0m _validate_names(kwds\u001B[38;5;241m.\u001B[39mget(\u001B[38;5;124m\"\u001B[39m\u001B[38;5;124mnames\u001B[39m\u001B[38;5;124m\"\u001B[39m, \u001B[38;5;28;01mNone\u001B[39;00m))\n\u001B[1;32m    604\u001B[0m \u001B[38;5;66;03m# Create the parser.\u001B[39;00m\n\u001B[0;32m--> 605\u001B[0m parser \u001B[38;5;241m=\u001B[39m \u001B[43mTextFileReader\u001B[49m\u001B[43m(\u001B[49m\u001B[43mfilepath_or_buffer\u001B[49m\u001B[43m,\u001B[49m\u001B[43m \u001B[49m\u001B[38;5;241;43m*\u001B[39;49m\u001B[38;5;241;43m*\u001B[39;49m\u001B[43mkwds\u001B[49m\u001B[43m)\u001B[49m\n\u001B[1;32m    607\u001B[0m \u001B[38;5;28;01mif\u001B[39;00m chunksize \u001B[38;5;129;01mor\u001B[39;00m iterator:\n\u001B[1;32m    608\u001B[0m     \u001B[38;5;28;01mreturn\u001B[39;00m parser\n",
      "File \u001B[0;32m~/miniconda3/envs/standard/lib/python3.8/site-packages/pandas/io/parsers/readers.py:1442\u001B[0m, in \u001B[0;36mTextFileReader.__init__\u001B[0;34m(self, f, engine, **kwds)\u001B[0m\n\u001B[1;32m   1439\u001B[0m     \u001B[38;5;28mself\u001B[39m\u001B[38;5;241m.\u001B[39moptions[\u001B[38;5;124m\"\u001B[39m\u001B[38;5;124mhas_index_names\u001B[39m\u001B[38;5;124m\"\u001B[39m] \u001B[38;5;241m=\u001B[39m kwds[\u001B[38;5;124m\"\u001B[39m\u001B[38;5;124mhas_index_names\u001B[39m\u001B[38;5;124m\"\u001B[39m]\n\u001B[1;32m   1441\u001B[0m \u001B[38;5;28mself\u001B[39m\u001B[38;5;241m.\u001B[39mhandles: IOHandles \u001B[38;5;241m|\u001B[39m \u001B[38;5;28;01mNone\u001B[39;00m \u001B[38;5;241m=\u001B[39m \u001B[38;5;28;01mNone\u001B[39;00m\n\u001B[0;32m-> 1442\u001B[0m \u001B[38;5;28mself\u001B[39m\u001B[38;5;241m.\u001B[39m_engine \u001B[38;5;241m=\u001B[39m \u001B[38;5;28;43mself\u001B[39;49m\u001B[38;5;241;43m.\u001B[39;49m\u001B[43m_make_engine\u001B[49m\u001B[43m(\u001B[49m\u001B[43mf\u001B[49m\u001B[43m,\u001B[49m\u001B[43m \u001B[49m\u001B[38;5;28;43mself\u001B[39;49m\u001B[38;5;241;43m.\u001B[39;49m\u001B[43mengine\u001B[49m\u001B[43m)\u001B[49m\n",
      "File \u001B[0;32m~/miniconda3/envs/standard/lib/python3.8/site-packages/pandas/io/parsers/readers.py:1735\u001B[0m, in \u001B[0;36mTextFileReader._make_engine\u001B[0;34m(self, f, engine)\u001B[0m\n\u001B[1;32m   1733\u001B[0m     \u001B[38;5;28;01mif\u001B[39;00m \u001B[38;5;124m\"\u001B[39m\u001B[38;5;124mb\u001B[39m\u001B[38;5;124m\"\u001B[39m \u001B[38;5;129;01mnot\u001B[39;00m \u001B[38;5;129;01min\u001B[39;00m mode:\n\u001B[1;32m   1734\u001B[0m         mode \u001B[38;5;241m+\u001B[39m\u001B[38;5;241m=\u001B[39m \u001B[38;5;124m\"\u001B[39m\u001B[38;5;124mb\u001B[39m\u001B[38;5;124m\"\u001B[39m\n\u001B[0;32m-> 1735\u001B[0m \u001B[38;5;28mself\u001B[39m\u001B[38;5;241m.\u001B[39mhandles \u001B[38;5;241m=\u001B[39m \u001B[43mget_handle\u001B[49m\u001B[43m(\u001B[49m\n\u001B[1;32m   1736\u001B[0m \u001B[43m    \u001B[49m\u001B[43mf\u001B[49m\u001B[43m,\u001B[49m\n\u001B[1;32m   1737\u001B[0m \u001B[43m    \u001B[49m\u001B[43mmode\u001B[49m\u001B[43m,\u001B[49m\n\u001B[1;32m   1738\u001B[0m \u001B[43m    \u001B[49m\u001B[43mencoding\u001B[49m\u001B[38;5;241;43m=\u001B[39;49m\u001B[38;5;28;43mself\u001B[39;49m\u001B[38;5;241;43m.\u001B[39;49m\u001B[43moptions\u001B[49m\u001B[38;5;241;43m.\u001B[39;49m\u001B[43mget\u001B[49m\u001B[43m(\u001B[49m\u001B[38;5;124;43m\"\u001B[39;49m\u001B[38;5;124;43mencoding\u001B[39;49m\u001B[38;5;124;43m\"\u001B[39;49m\u001B[43m,\u001B[49m\u001B[43m \u001B[49m\u001B[38;5;28;43;01mNone\u001B[39;49;00m\u001B[43m)\u001B[49m\u001B[43m,\u001B[49m\n\u001B[1;32m   1739\u001B[0m \u001B[43m    \u001B[49m\u001B[43mcompression\u001B[49m\u001B[38;5;241;43m=\u001B[39;49m\u001B[38;5;28;43mself\u001B[39;49m\u001B[38;5;241;43m.\u001B[39;49m\u001B[43moptions\u001B[49m\u001B[38;5;241;43m.\u001B[39;49m\u001B[43mget\u001B[49m\u001B[43m(\u001B[49m\u001B[38;5;124;43m\"\u001B[39;49m\u001B[38;5;124;43mcompression\u001B[39;49m\u001B[38;5;124;43m\"\u001B[39;49m\u001B[43m,\u001B[49m\u001B[43m \u001B[49m\u001B[38;5;28;43;01mNone\u001B[39;49;00m\u001B[43m)\u001B[49m\u001B[43m,\u001B[49m\n\u001B[1;32m   1740\u001B[0m \u001B[43m    \u001B[49m\u001B[43mmemory_map\u001B[49m\u001B[38;5;241;43m=\u001B[39;49m\u001B[38;5;28;43mself\u001B[39;49m\u001B[38;5;241;43m.\u001B[39;49m\u001B[43moptions\u001B[49m\u001B[38;5;241;43m.\u001B[39;49m\u001B[43mget\u001B[49m\u001B[43m(\u001B[49m\u001B[38;5;124;43m\"\u001B[39;49m\u001B[38;5;124;43mmemory_map\u001B[39;49m\u001B[38;5;124;43m\"\u001B[39;49m\u001B[43m,\u001B[49m\u001B[43m \u001B[49m\u001B[38;5;28;43;01mFalse\u001B[39;49;00m\u001B[43m)\u001B[49m\u001B[43m,\u001B[49m\n\u001B[1;32m   1741\u001B[0m \u001B[43m    \u001B[49m\u001B[43mis_text\u001B[49m\u001B[38;5;241;43m=\u001B[39;49m\u001B[43mis_text\u001B[49m\u001B[43m,\u001B[49m\n\u001B[1;32m   1742\u001B[0m \u001B[43m    \u001B[49m\u001B[43merrors\u001B[49m\u001B[38;5;241;43m=\u001B[39;49m\u001B[38;5;28;43mself\u001B[39;49m\u001B[38;5;241;43m.\u001B[39;49m\u001B[43moptions\u001B[49m\u001B[38;5;241;43m.\u001B[39;49m\u001B[43mget\u001B[49m\u001B[43m(\u001B[49m\u001B[38;5;124;43m\"\u001B[39;49m\u001B[38;5;124;43mencoding_errors\u001B[39;49m\u001B[38;5;124;43m\"\u001B[39;49m\u001B[43m,\u001B[49m\u001B[43m \u001B[49m\u001B[38;5;124;43m\"\u001B[39;49m\u001B[38;5;124;43mstrict\u001B[39;49m\u001B[38;5;124;43m\"\u001B[39;49m\u001B[43m)\u001B[49m\u001B[43m,\u001B[49m\n\u001B[1;32m   1743\u001B[0m \u001B[43m    \u001B[49m\u001B[43mstorage_options\u001B[49m\u001B[38;5;241;43m=\u001B[39;49m\u001B[38;5;28;43mself\u001B[39;49m\u001B[38;5;241;43m.\u001B[39;49m\u001B[43moptions\u001B[49m\u001B[38;5;241;43m.\u001B[39;49m\u001B[43mget\u001B[49m\u001B[43m(\u001B[49m\u001B[38;5;124;43m\"\u001B[39;49m\u001B[38;5;124;43mstorage_options\u001B[39;49m\u001B[38;5;124;43m\"\u001B[39;49m\u001B[43m,\u001B[49m\u001B[43m \u001B[49m\u001B[38;5;28;43;01mNone\u001B[39;49;00m\u001B[43m)\u001B[49m\u001B[43m,\u001B[49m\n\u001B[1;32m   1744\u001B[0m \u001B[43m\u001B[49m\u001B[43m)\u001B[49m\n\u001B[1;32m   1745\u001B[0m \u001B[38;5;28;01massert\u001B[39;00m \u001B[38;5;28mself\u001B[39m\u001B[38;5;241m.\u001B[39mhandles \u001B[38;5;129;01mis\u001B[39;00m \u001B[38;5;129;01mnot\u001B[39;00m \u001B[38;5;28;01mNone\u001B[39;00m\n\u001B[1;32m   1746\u001B[0m f \u001B[38;5;241m=\u001B[39m \u001B[38;5;28mself\u001B[39m\u001B[38;5;241m.\u001B[39mhandles\u001B[38;5;241m.\u001B[39mhandle\n",
      "File \u001B[0;32m~/miniconda3/envs/standard/lib/python3.8/site-packages/pandas/io/common.py:856\u001B[0m, in \u001B[0;36mget_handle\u001B[0;34m(path_or_buf, mode, encoding, compression, memory_map, is_text, errors, storage_options)\u001B[0m\n\u001B[1;32m    851\u001B[0m \u001B[38;5;28;01melif\u001B[39;00m \u001B[38;5;28misinstance\u001B[39m(handle, \u001B[38;5;28mstr\u001B[39m):\n\u001B[1;32m    852\u001B[0m     \u001B[38;5;66;03m# Check whether the filename is to be opened in binary mode.\u001B[39;00m\n\u001B[1;32m    853\u001B[0m     \u001B[38;5;66;03m# Binary mode does not support 'encoding' and 'newline'.\u001B[39;00m\n\u001B[1;32m    854\u001B[0m     \u001B[38;5;28;01mif\u001B[39;00m ioargs\u001B[38;5;241m.\u001B[39mencoding \u001B[38;5;129;01mand\u001B[39;00m \u001B[38;5;124m\"\u001B[39m\u001B[38;5;124mb\u001B[39m\u001B[38;5;124m\"\u001B[39m \u001B[38;5;129;01mnot\u001B[39;00m \u001B[38;5;129;01min\u001B[39;00m ioargs\u001B[38;5;241m.\u001B[39mmode:\n\u001B[1;32m    855\u001B[0m         \u001B[38;5;66;03m# Encoding\u001B[39;00m\n\u001B[0;32m--> 856\u001B[0m         handle \u001B[38;5;241m=\u001B[39m \u001B[38;5;28;43mopen\u001B[39;49m\u001B[43m(\u001B[49m\n\u001B[1;32m    857\u001B[0m \u001B[43m            \u001B[49m\u001B[43mhandle\u001B[49m\u001B[43m,\u001B[49m\n\u001B[1;32m    858\u001B[0m \u001B[43m            \u001B[49m\u001B[43mioargs\u001B[49m\u001B[38;5;241;43m.\u001B[39;49m\u001B[43mmode\u001B[49m\u001B[43m,\u001B[49m\n\u001B[1;32m    859\u001B[0m \u001B[43m            \u001B[49m\u001B[43mencoding\u001B[49m\u001B[38;5;241;43m=\u001B[39;49m\u001B[43mioargs\u001B[49m\u001B[38;5;241;43m.\u001B[39;49m\u001B[43mencoding\u001B[49m\u001B[43m,\u001B[49m\n\u001B[1;32m    860\u001B[0m \u001B[43m            \u001B[49m\u001B[43merrors\u001B[49m\u001B[38;5;241;43m=\u001B[39;49m\u001B[43merrors\u001B[49m\u001B[43m,\u001B[49m\n\u001B[1;32m    861\u001B[0m \u001B[43m            \u001B[49m\u001B[43mnewline\u001B[49m\u001B[38;5;241;43m=\u001B[39;49m\u001B[38;5;124;43m\"\u001B[39;49m\u001B[38;5;124;43m\"\u001B[39;49m\u001B[43m,\u001B[49m\n\u001B[1;32m    862\u001B[0m \u001B[43m        \u001B[49m\u001B[43m)\u001B[49m\n\u001B[1;32m    863\u001B[0m     \u001B[38;5;28;01melse\u001B[39;00m:\n\u001B[1;32m    864\u001B[0m         \u001B[38;5;66;03m# Binary mode\u001B[39;00m\n\u001B[1;32m    865\u001B[0m         handle \u001B[38;5;241m=\u001B[39m \u001B[38;5;28mopen\u001B[39m(handle, ioargs\u001B[38;5;241m.\u001B[39mmode)\n",
      "\u001B[0;31mFileNotFoundError\u001B[0m: [Errno 2] No such file or directory: 'data/unique_normalized_user_queries.csv'"
     ]
    }
   ],
   "source": [
    "unique_user_queries = pd.read_csv('data/unique_normalized_user_queries.csv', header=None, names=['qid', 'query'],\n",
    "                                  index_col='query')\n",
    "unique_user_queries = unique_user_queries.assign(rid=unique_user_queries.qid.str.rsplit('-', 1).str[1])\n",
    "unique_user_queries"
   ]
  },
  {
   "cell_type": "code",
   "execution_count": null,
   "id": "1cd6f335-ccd4-453d-b99f-03736079569a",
   "metadata": {
    "tags": [],
    "trusted": false
   },
   "outputs": [],
   "source": [
    "k = 10\n",
    "ndcg_df = pd.read_csv(f'data/PL2.DFR.SD-survey.ndcg@{k}', sep='\\t', header=None, names=['qid', f'nDCG@{k}'],\n",
    "                      index_col='qid')\n",
    "canary_qids = ndcg_df.loc[ndcg_df.index.str.endswith('-0')].index\n",
    "# ndcg_df.index = ndcg_df.index.str.strip()\n",
    "# ndcg_df.shape\n",
    "users_ndcg_df = pd.read_csv(f'data/user_queries/PL2.DFR.SD.ndcg@{k}', sep='\\t', header=None, names=['qid', f'nDCG@{k}'],\n",
    "                            index_col='qid')\n",
    "users_ndcg_df = users_ndcg_df.loc[unique_user_queries['qid']]\n",
    "users_ndcg_df"
   ]
  },
  {
   "cell_type": "code",
   "execution_count": null,
   "id": "eb1babcc-d1be-4eb5-a78d-216000d386cd",
   "metadata": {
    "tags": [],
    "trusted": false
   },
   "outputs": [],
   "source": [
    "qdf = pd.read_csv('data/QueriesSurvey.csv', header=None, names=['qid', 'query'], index_col='qid').applymap(str.strip)\n",
    "qdf.index = qdf.index.str.strip()\n",
    "qdf = qdf.merge(ndcg_df, left_index=True, right_index=True)\n",
    "qdf['topic'] = qdf.index.str.split('-').str[0]\n",
    "qdf"
   ]
  },
  {
   "cell_type": "code",
   "execution_count": null,
   "id": "5a3c1631-351a-4495-918f-5f1172957021",
   "metadata": {
    "tags": [],
    "trusted": false
   },
   "outputs": [],
   "source": [
    "ranks_sr = ranks_df.groupby(['query'])['value'].mean()\n",
    "rates_sr = rates_df.groupby(['query'])['value'].mean()\n",
    "rates_sr.sort_values()"
   ]
  },
  {
   "cell_type": "code",
   "execution_count": null,
   "id": "455c4344-a1b5-4239-bcc7-03140afb0c47",
   "metadata": {
    "tags": [],
    "trusted": false
   },
   "outputs": [],
   "source": [
    "qdf = qdf.assign(avg_rate=qdf['query'].map(rates_sr), avg_rank=qdf['query'].map(ranks_sr))\n",
    "qdf_filtered = qdf.loc[~qdf.index.isin(canary_qids)].rename(\n",
    "    columns={'topic': 'Topic', 'avg_rate': 'Rating', 'avg_rank': 'Ranking'})\n",
    "qdf_filtered.head()\n",
    "print('Pearson:')\n",
    "print(qdf_filtered.corr(method='pearson').to_markdown(floatfmt='.2f'))\n",
    "print(f\"{stats.pearsonr(qdf_filtered['Rating'], qdf_filtered['Ranking'])[1]:.1g}\")\n",
    "print(f\"{stats.pearsonr(qdf_filtered['Rating'], qdf_filtered['nDCG@10'])[1]:.1g}\")\n",
    "print(f\"{stats.pearsonr(qdf_filtered['Ranking'], qdf_filtered['nDCG@10'])[1]:.1g}\")\n",
    "\n",
    "print('\\nSpearman:')\n",
    "print(qdf_filtered.corr(method='spearman').to_markdown(floatfmt='.2f'))\n",
    "print('\\nKendall:')\n",
    "print(qdf_filtered.corr(method='kendall').to_markdown(floatfmt='.2f'))\n"
   ]
  },
  {
   "cell_type": "code",
   "execution_count": null,
   "id": "9d9eab90-bcf0-456b-bb70-6327eaa2a3ef",
   "metadata": {
    "tags": [],
    "trusted": false
   },
   "outputs": [],
   "source": [
    "sns.set_style(\"whitegrid\")\n",
    "\n",
    "# _df = comb_df.loc[comb_df['topic'].isin({213, 223, 253, 286})]\n",
    "_df = comb_df\n",
    "g = sns.catplot(data=_df, x='value', y='query', hue='method', kind='point', col='topic',\n",
    "                hue_order=['Ranking', 'Rating'], scale=0.8, errwidth=1.5, capsize=0.15, col_wrap=3,\n",
    "                height=3, aspect=3, sharey=False, sharex=True, dodge=0.27, ci='sd', join=False, margin_titles=False,\n",
    "                legend=False, legend_out=False)\n",
    "\n",
    "for ax in g.axes.flat:\n",
    "    ax.minorticks_on()\n",
    "    # ax.tick_params(axis='y', which='major', left=False, pad=2)\n",
    "    ax.tick_params(axis='y', which='minor', left=False)\n",
    "    ax.tick_params(axis='x', which='minor', bottom=True)\n",
    "    ax.tick_params(axis='x', which='major', bottom=True, labelbottom=True)\n",
    "\n",
    "for ax in g.axes.flat:\n",
    "    ax.set_ylabel(None)\n",
    "    ax.set_xlabel(None)\n",
    "    ax.set_xlabel(\"User's mean\")\n",
    "\n",
    "g.map(plt.grid, b=True, which='major', axis='x', zorder=1, linewidth=1, ms=0, alpha=0.6)\n",
    "g.map(plt.grid, b=True, which='major', axis='y', zorder=1, linewidth=1, ms=0, alpha=0.6)\n",
    "# g.map(plt.grid, b=True, which='minor', axis='x', zorder=0, alpha=0.3, linewidth=0.5, ms=0)\n",
    "\n",
    "for ax in g.axes.flat:\n",
    "    ax.legend(loc='upper left')\n",
    "    # ax.set_title(None)\n",
    "\n",
    "for l in ax.lines + ax.collections:\n",
    "    l.set_zorder(20)\n",
    "\n",
    "g.set_titles(\"Topic {col_name} User's Mean\")\n",
    "\n",
    "plt.savefig('plots/point_mean_ci.pdf', dpi=300, bbox_inches='tight')"
   ]
  },
  {
   "cell_type": "code",
   "execution_count": null,
   "id": "1ffd505c-951d-41db-9be0-dfeb5688d0db",
   "metadata": {
    "trusted": false
   },
   "outputs": [],
   "source": [
    "ranks_sr.corr(rates_sr, method='pearson')"
   ]
  },
  {
   "cell_type": "code",
   "execution_count": null,
   "id": "00e0dd60-4ee4-4575-a60a-db743c43b335",
   "metadata": {
    "trusted": false
   },
   "outputs": [],
   "source": [
    "all_user_queries = pd.read_csv('data/all_normalized_user_queries.csv', header=None, names=['qid', 'user_query']).assign(\n",
    "    topic=lambda x: x.qid.apply(lambda y: y.split('-')[0])).sort_values('qid')\n",
    "all_user_queries = all_user_queries.assign(rid=all_user_queries.qid.str.rsplit('-', 1).str[1])\n",
    "all_user_queries = all_user_queries.assign(method=all_user_queries.qid.str.split('-').str[1].str.capitalize())\n",
    "all_user_queries = all_user_queries.assign(topic=all_user_queries.qid.str.split('-').str[0].astype(int))\n",
    "# filter only the accepted queries\n",
    "all_user_queries = all_user_queries.loc[all_user_queries['rid'].isin(comb_df.index)]\n",
    "all_user_queries['ref_qid'] = all_user_queries['user_query'].apply(lambda x: unique_user_queries.loc[x, 'qid'])\n",
    "all_user_queries[f'user_nDCG@{k}'] = all_user_queries['ref_qid'].apply(lambda x: users_ndcg_df.loc[x, f'nDCG@{k}'])\n",
    "all_user_queries.set_index(['method', 'topic', 'rid'])\n",
    "all_user_queries"
   ]
  },
  {
   "cell_type": "code",
   "execution_count": null,
   "id": "4ec9bc52-ea9f-4a63-ba09-3788faec5fe8",
   "metadata": {
    "tags": [],
    "trusted": false
   },
   "outputs": [],
   "source": [
    "comb_df = comb_df.assign(qid=comb_df['query'].map(qdf.reset_index().set_index('query')['qid']))\n",
    "comb_df"
   ]
  },
  {
   "cell_type": "code",
   "execution_count": null,
   "id": "a37336b7-9d41-41ac-9cad-e5ad24a3db4c",
   "metadata": {
    "tags": [],
    "trusted": false
   },
   "outputs": [],
   "source": [
    "_df = qdf_filtered.melt(id_vars=[f'nDCG@{k}', 'Topic'], value_vars=['Ranking', 'Rating'],\n",
    "                        value_name=\"Users' mean\").sort_values('Topic').rename(columns={f'nDCG@{k}': f'NDCG@{k}'})\n",
    "_rate_df = _df.loc[_df['variable'] == 'Rating']\n",
    "_rank_df = _df.loc[_df['variable'] == 'Ranking']\n",
    "\n",
    "x = \"Users' mean\"\n",
    "y = f'NDCG@{k}'\n",
    "markers = list(Line2D.filled_markers)\n",
    "for m in {'8', 'h', 'H'}:\n",
    "    markers.remove(m)\n",
    "\n",
    "_col_wrap = None\n",
    "g = sns.lmplot(data=_df, y=y, x=x, hue='Topic', col='variable', height=2.8, aspect=1.7, ci=None, fit_reg=False,\n",
    "               markers=markers, scatter_kws=dict(s=25), palette=\"icefire\", facet_kws=dict(sharey=False),\n",
    "               col_wrap=_col_wrap, col_order=['Ranking', 'Rating'])\n",
    "\n",
    "_rank_reg_res = stats.linregress(_rank_df[x], _rank_df[y])\n",
    "rank_label = f'$ \\hat{{y}}={_rank_reg_res.intercept:.3f} + {_rank_reg_res.slope:.3f}x $'\n",
    "\n",
    "if _col_wrap is None:\n",
    "    _rank_axes = g.axes[0, 0]\n",
    "    _rate_axes = g.axes[0, 1]\n",
    "else:\n",
    "    _rank_axes = g.axes[0]\n",
    "    _rate_axes = g.axes[1]\n",
    "\n",
    "rank_line, = _rank_axes.plot(_rank_df[x], _rank_reg_res.intercept + _rank_reg_res.slope * _rank_df[x],\n",
    "                             color='#224F62', label=rank_label)\n",
    "\n",
    "_rate_reg_res = stats.linregress(_rate_df[x], _rate_df[y])\n",
    "rate_label = f'$ \\hat{{y}}={_rate_reg_res.intercept:.3f} + {_rate_reg_res.slope:.3f}x $'\n",
    "rate_line, = _rate_axes.plot(_rate_df[x], _rate_reg_res.intercept + _rate_reg_res.slope * _rate_df[x],\n",
    "                             color='#224F62', label=rate_label)\n",
    "\n",
    "for ax in g.axes.flat:\n",
    "    ax.minorticks_on()\n",
    "\n",
    "g.map(plt.grid, b=True, which='major', axis='both', zorder=1, linewidth=1, ms=0)\n",
    "g.map(plt.grid, b=True, which='minor', axis='both', zorder=0, alpha=0.3, linewidth=0.5, ms=0)\n",
    "\n",
    "_rank_axes.text(.038, 0.92, rank_label, transform=_rank_axes.transAxes, rotation=0, size='small')\n",
    "_rate_axes.text(.038, 0.92, rate_label, transform=_rate_axes.transAxes, rotation=0, size='small')\n",
    "\n",
    "for ax in g.axes.flat:\n",
    "    ax.set_ylabel(y)\n",
    "for l in ax.lines + ax.collections:\n",
    "    l.set_zorder(5)\n",
    "\n",
    "g.set_titles(\"{col_name}\")\n",
    "plt.subplots_adjust(wspace=0.2)\n",
    "\n",
    "g.legend.set_frame_on(True)\n",
    "frame = g.legend.get_frame()\n",
    "frame.set_facecolor('white')\n",
    "frame.set_alpha(1)\n",
    "\n",
    "plt.savefig('plots/regplot_per_task.pdf', bbox_inches='tight')\n",
    "\n",
    "print('Ranking reg:\\n', [f'{k}={v:.2g}' for v, k in zip(_rank_reg_res, _rank_reg_res._fields)])\n",
    "print('Rating reg:\\n', [f'{k}={v:.2g}' for v, k in zip(_rate_reg_res, _rate_reg_res._fields)])\n"
   ]
  },
  {
   "cell_type": "code",
   "execution_count": null,
   "id": "4576357b-fb6d-42fc-adaa-55e9aa514396",
   "metadata": {
    "trusted": false
   },
   "outputs": [],
   "source": [
    "# get coeffs of linear fit\n",
    "_df = qdf_filtered.melt(id_vars=[f'nDCG@{k}', 'Topic'], value_vars=['Rating', 'Ranking'],\n",
    "                        value_name=\"User's mean\").sort_values('Topic')\n",
    "\n",
    "for df in [_rate_df, _rank_df]:\n",
    "    slope, intercept, r_value, p_value, std_err = stats.linregress(df[x], df[y])\n",
    "    print(slope)"
   ]
  },
  {
   "cell_type": "code",
   "execution_count": null,
   "id": "21845786-ee6b-4d7f-a9e0-80363f571948",
   "metadata": {
    "tags": [],
    "trusted": false
   },
   "outputs": [],
   "source": [
    "# qdf_filtered.assign(topic=qdf_filtered.index.map(comb_df['topic']))\n",
    "qdf_filtered.head()\n"
   ]
  },
  {
   "cell_type": "code",
   "execution_count": null,
   "id": "0af2bdd6-d0a5-4636-bce6-34516da47780",
   "metadata": {
    "trusted": false
   },
   "outputs": [],
   "source": [
    "qdf_filtered.melt(id_vars=[f'nDCG@{k}', 'Topic'], value_vars=['Rating', 'Ranking'], value_name=\"User's mean\")"
   ]
  },
  {
   "cell_type": "code",
   "execution_count": null,
   "id": "5adb73f4-34c2-46db-89f0-fc8e1c94b7fd",
   "metadata": {
    "trusted": false
   },
   "outputs": [],
   "source": [
    "_comb_df = comb_df.reset_index().set_index(['method', 'topic', 'rid']).merge(\n",
    "    all_user_queries.set_index(['method', 'topic', 'rid'])[[f'user_nDCG@{k}', 'user_query']], left_index=True,\n",
    "    right_index=True)\n",
    "_comb_df = _comb_df.reset_index()\n",
    "comb_df = _comb_df\n",
    "comb_df"
   ]
  },
  {
   "cell_type": "code",
   "execution_count": null,
   "id": "6a8641a3-3231-4759-9e94-95edaa0c42cc",
   "metadata": {
    "trusted": false
   },
   "outputs": [],
   "source": [
    "# sns.regplot(data=df[['user_nDCG@10', 'selected_nDCG']], x='user_nDCG@10', y='selected_nDCG')\n",
    "# _df = df"
   ]
  },
  {
   "cell_type": "code",
   "execution_count": null,
   "id": "96a7583b-0c05-4c4d-8c66-6c0deb86d41b",
   "metadata": {
    "trusted": false
   },
   "outputs": [],
   "source": [
    "qpp_df = pd.read_csv('data/qpp_sd_top-50_survey.qpp', names=['qid', 'sd-60'], header=0, index_col='qid')\n",
    "qpp_df.head()\n",
    "qdf_filtered = qdf_filtered.assign(qpp=qpp_df)\n",
    "qdf_filtered.head()"
   ]
  },
  {
   "cell_type": "code",
   "execution_count": null,
   "id": "40640fe1-9c95-423f-91ff-3fd6d91ae65c",
   "metadata": {
    "trusted": false
   },
   "outputs": [],
   "source": [
    "print('Pearson:')\n",
    "print(qdf_filtered.corr(method='pearson').to_markdown(floatfmt='.2f'))\n",
    "print('\\nSpearman:')\n",
    "print(qdf_filtered.corr(method='spearman').to_markdown(floatfmt='.2f'))\n",
    "print('\\nKendall:')\n",
    "print(qdf_filtered.corr(method='kendall').to_markdown(floatfmt='.2f'))"
   ]
  },
  {
   "cell_type": "code",
   "execution_count": null,
   "id": "feaadda7-acf4-43d3-9f47-9942170fa122",
   "metadata": {
    "trusted": false
   },
   "outputs": [],
   "source": [
    "qdf_filtered.head()"
   ]
  },
  {
   "cell_type": "code",
   "execution_count": null,
   "outputs": [],
   "source": [
    "sns.pairplot(qdf_filtered[['nDCG@10', 'Rating', 'Ranking', 'qpp']], kind='reg')\n",
    "plt.savefig('plots/pairsplot.pdf')"
   ],
   "metadata": {
    "collapsed": false
   }
  }
 ],
 "metadata": {
  "kernelspec": {
   "display_name": "Python 3 (ipykernel)",
   "language": "python",
   "name": "python3"
  },
  "language_info": {
   "codemirror_mode": {
    "name": "ipython",
    "version": 3
   },
   "file_extension": ".py",
   "mimetype": "text/x-python",
   "name": "python",
   "nbconvert_exporter": "python",
   "pygments_lexer": "ipython3",
   "version": "3.8.5"
  },
  "toc-autonumbering": false,
  "toc-showcode": false,
  "toc-showmarkdowntxt": false,
  "toc-showtags": false
 },
 "nbformat": 4,
 "nbformat_minor": 5
}
